{
 "cells": [
  {
   "cell_type": "markdown",
   "id": "b8da6495",
   "metadata": {
    "papermill": {
     "duration": 0.006479,
     "end_time": "2024-01-04T12:51:24.772038",
     "exception": false,
     "start_time": "2024-01-04T12:51:24.765559",
     "status": "completed"
    },
    "tags": []
   },
   "source": [
    "**This notebook is an exercise in the [Computer Vision](https://www.kaggle.com/learn/computer-vision) course.  You can reference the tutorial at [this link](https://www.kaggle.com/ryanholbrook/custom-convnets).**\n",
    "\n",
    "---\n"
   ]
  },
  {
   "cell_type": "markdown",
   "id": "a76250cd",
   "metadata": {
    "papermill": {
     "duration": 0.005403,
     "end_time": "2024-01-04T12:51:24.783486",
     "exception": false,
     "start_time": "2024-01-04T12:51:24.778083",
     "status": "completed"
    },
    "tags": []
   },
   "source": [
    "# Introduction #\n",
    "\n",
    "In these exercises, you'll build a custom convnet with performance competitive to the VGG16 model from Lesson 1.\n",
    "\n",
    "Get started by running the code cell below."
   ]
  },
  {
   "cell_type": "code",
   "execution_count": 1,
   "id": "781ecfc2",
   "metadata": {
    "execution": {
     "iopub.execute_input": "2024-01-04T12:51:24.796601Z",
     "iopub.status.busy": "2024-01-04T12:51:24.796207Z",
     "iopub.status.idle": "2024-01-04T12:51:47.538312Z",
     "shell.execute_reply": "2024-01-04T12:51:47.537548Z"
    },
    "papermill": {
     "duration": 22.751259,
     "end_time": "2024-01-04T12:51:47.540613",
     "exception": false,
     "start_time": "2024-01-04T12:51:24.789354",
     "status": "completed"
    },
    "tags": []
   },
   "outputs": [
    {
     "name": "stderr",
     "output_type": "stream",
     "text": [
      "/opt/conda/lib/python3.10/site-packages/scipy/__init__.py:146: UserWarning: A NumPy version >=1.16.5 and <1.23.0 is required for this version of SciPy (detected version 1.24.3\n",
      "  warnings.warn(f\"A NumPy version >={np_minversion} and <{np_maxversion}\"\n"
     ]
    },
    {
     "name": "stdout",
     "output_type": "stream",
     "text": [
      "Found 5117 files belonging to 2 classes.\n",
      "Found 5051 files belonging to 2 classes.\n"
     ]
    }
   ],
   "source": [
    "# Setup feedback system\n",
    "from learntools.core import binder\n",
    "binder.bind(globals())\n",
    "from learntools.computer_vision.ex5 import *\n",
    "\n",
    "# Imports\n",
    "import os, warnings\n",
    "import matplotlib.pyplot as plt\n",
    "from matplotlib import gridspec\n",
    "\n",
    "import numpy as np\n",
    "import tensorflow as tf\n",
    "from tensorflow.keras.preprocessing import image_dataset_from_directory\n",
    "\n",
    "# Reproducability\n",
    "def set_seed(seed=31415):\n",
    "    np.random.seed(seed)\n",
    "    tf.random.set_seed(seed)\n",
    "    os.environ['PYTHONHASHSEED'] = str(seed)\n",
    "    os.environ['TF_DETERMINISTIC_OPS'] = '1'\n",
    "set_seed()\n",
    "\n",
    "# Set Matplotlib defaults\n",
    "plt.rc('figure', autolayout=True)\n",
    "plt.rc('axes', labelweight='bold', labelsize='large',\n",
    "       titleweight='bold', titlesize=18, titlepad=10)\n",
    "plt.rc('image', cmap='magma')\n",
    "warnings.filterwarnings(\"ignore\") # to clean up output cells\n",
    "\n",
    "\n",
    "# Load training and validation sets\n",
    "ds_train_ = image_dataset_from_directory(\n",
    "    '../input/car-or-truck/train',\n",
    "    labels='inferred',\n",
    "    label_mode='binary',\n",
    "    image_size=[128, 128],\n",
    "    interpolation='nearest',\n",
    "    batch_size=64,\n",
    "    shuffle=True,\n",
    ")\n",
    "ds_valid_ = image_dataset_from_directory(\n",
    "    '../input/car-or-truck/valid',\n",
    "    labels='inferred',\n",
    "    label_mode='binary',\n",
    "    image_size=[128, 128],\n",
    "    interpolation='nearest',\n",
    "    batch_size=64,\n",
    "    shuffle=False,\n",
    ")\n",
    "\n",
    "# Data Pipeline\n",
    "def convert_to_float(image, label):\n",
    "    image = tf.image.convert_image_dtype(image, dtype=tf.float32)\n",
    "    return image, label\n",
    "\n",
    "AUTOTUNE = tf.data.experimental.AUTOTUNE\n",
    "ds_train = (\n",
    "    ds_train_\n",
    "    .map(convert_to_float)\n",
    "    .cache()\n",
    "    .prefetch(buffer_size=AUTOTUNE)\n",
    ")\n",
    "ds_valid = (\n",
    "    ds_valid_\n",
    "    .map(convert_to_float)\n",
    "    .cache()\n",
    "    .prefetch(buffer_size=AUTOTUNE)\n",
    ")\n"
   ]
  },
  {
   "cell_type": "markdown",
   "id": "7d0dd4fa",
   "metadata": {
    "papermill": {
     "duration": 0.005691,
     "end_time": "2024-01-04T12:51:47.552573",
     "exception": false,
     "start_time": "2024-01-04T12:51:47.546882",
     "status": "completed"
    },
    "tags": []
   },
   "source": [
    "# Design a Convnet #\n",
    "\n",
    "Let's design a convolutional network with a block architecture like we saw in the tutorial. The model from the example had three blocks, each with a single convolutional layer. Its performance on the \"Car or Truck\" problem was okay, but far from what the pretrained VGG16 could achieve. It might be that our simple network lacks the ability to extract sufficiently complex features. We could try improving the model either by adding more blocks or by adding convolutions to the blocks we have.\n",
    "\n",
    "Let's go with the second approach. We'll keep the three block structure, but increase the number of `Conv2D` layer in the second block to two, and in the third block to three.\n",
    "\n",
    "<figure>\n",
    "<!-- <img src=\"./images/2-convmodel-2.png\" width=\"250\" alt=\"Diagram of a convolutional model.\"> -->\n",
    "<img src=\"https://storage.googleapis.com/kaggle-media/learn/images/Vko6nCK.png\" width=\"250\" alt=\"Diagram of a convolutional model.\">\n",
    "</figure>\n",
    "\n",
    "# 1) Define Model #\n",
    "\n",
    "Given the diagram above, complete the model by defining the layers of the third block."
   ]
  },
  {
   "cell_type": "code",
   "execution_count": 2,
   "id": "aba6b862",
   "metadata": {
    "execution": {
     "iopub.execute_input": "2024-01-04T12:51:47.565799Z",
     "iopub.status.busy": "2024-01-04T12:51:47.565425Z",
     "iopub.status.idle": "2024-01-04T12:51:47.735691Z",
     "shell.execute_reply": "2024-01-04T12:51:47.734755Z"
    },
    "lines_to_next_cell": 0,
    "papermill": {
     "duration": 0.179796,
     "end_time": "2024-01-04T12:51:47.738250",
     "exception": false,
     "start_time": "2024-01-04T12:51:47.558454",
     "status": "completed"
    },
    "tags": []
   },
   "outputs": [
    {
     "data": {
      "application/javascript": [
       "parent.postMessage({\"jupyterEvent\": \"custom.exercise_interaction\", \"data\": {\"outcomeType\": 1, \"valueTowardsCompletion\": 0.3333333333333333, \"interactionType\": 1, \"questionType\": 2, \"questionId\": \"1_Q1\", \"learnToolsVersion\": \"0.3.4\", \"failureMessage\": \"\", \"exceptionClass\": \"\", \"trace\": \"\"}}, \"*\")"
      ],
      "text/plain": [
       "<IPython.core.display.Javascript object>"
      ]
     },
     "metadata": {},
     "output_type": "display_data"
    },
    {
     "data": {
      "text/markdown": [
       "<span style=\"color:#33cc33\">Correct</span>"
      ],
      "text/plain": [
       "Correct"
      ]
     },
     "metadata": {},
     "output_type": "display_data"
    }
   ],
   "source": [
    "from tensorflow import keras\n",
    "from tensorflow.keras import layers\n",
    "\n",
    "model = keras.Sequential([\n",
    "    # Block One\n",
    "    layers.Conv2D(filters=32, kernel_size=3, activation='relu', padding='same',\n",
    "                  input_shape=[128, 128, 3]),\n",
    "    layers.MaxPool2D(),\n",
    "\n",
    "    # Block Two\n",
    "    layers.Conv2D(filters=64, kernel_size=3, activation='relu', padding='same'),\n",
    "    layers.MaxPool2D(),\n",
    "\n",
    "    # Block Three\n",
    "    layers.Conv2D(filters=128, kernel_size=3, activation='relu', padding='same'),\n",
    "    layers.Conv2D(filters=128, kernel_size=3, activation='relu', padding='same'),\n",
    "    layers.MaxPool2D(),\n",
    "\n",
    "    # Head\n",
    "    layers.Flatten(),\n",
    "    layers.Dense(6, activation='relu'),\n",
    "    layers.Dropout(0.2),\n",
    "    layers.Dense(1, activation='sigmoid'),\n",
    "])\n",
    "\n",
    "# Check your answer\n",
    "q_1.check()"
   ]
  },
  {
   "cell_type": "code",
   "execution_count": 3,
   "id": "e34f0d78",
   "metadata": {
    "execution": {
     "iopub.execute_input": "2024-01-04T12:51:47.752512Z",
     "iopub.status.busy": "2024-01-04T12:51:47.752228Z",
     "iopub.status.idle": "2024-01-04T12:51:47.756397Z",
     "shell.execute_reply": "2024-01-04T12:51:47.755460Z"
    },
    "papermill": {
     "duration": 0.013373,
     "end_time": "2024-01-04T12:51:47.758326",
     "exception": false,
     "start_time": "2024-01-04T12:51:47.744953",
     "status": "completed"
    },
    "tags": []
   },
   "outputs": [],
   "source": [
    "# Lines below will give you a hint or solution code\n",
    "#q_1.hint()\n",
    "#q_1.solution()"
   ]
  },
  {
   "cell_type": "markdown",
   "id": "f90e37d7",
   "metadata": {
    "papermill": {
     "duration": 0.006049,
     "end_time": "2024-01-04T12:51:47.770685",
     "exception": false,
     "start_time": "2024-01-04T12:51:47.764636",
     "status": "completed"
    },
    "tags": []
   },
   "source": [
    "# 2) Compile #\n",
    "\n",
    "To prepare for training, compile the model with an appropriate loss and accuracy metric for the \"Car or Truck\" dataset."
   ]
  },
  {
   "cell_type": "code",
   "execution_count": 4,
   "id": "ed0fa095",
   "metadata": {
    "execution": {
     "iopub.execute_input": "2024-01-04T12:51:47.784561Z",
     "iopub.status.busy": "2024-01-04T12:51:47.784284Z",
     "iopub.status.idle": "2024-01-04T12:51:47.803805Z",
     "shell.execute_reply": "2024-01-04T12:51:47.802919Z"
    },
    "lines_to_next_cell": 0,
    "papermill": {
     "duration": 0.029158,
     "end_time": "2024-01-04T12:51:47.806162",
     "exception": false,
     "start_time": "2024-01-04T12:51:47.777004",
     "status": "completed"
    },
    "tags": []
   },
   "outputs": [
    {
     "data": {
      "application/javascript": [
       "parent.postMessage({\"jupyterEvent\": \"custom.exercise_interaction\", \"data\": {\"outcomeType\": 1, \"valueTowardsCompletion\": 0.3333333333333333, \"interactionType\": 1, \"questionType\": 2, \"questionId\": \"2_Q2\", \"learnToolsVersion\": \"0.3.4\", \"failureMessage\": \"\", \"exceptionClass\": \"\", \"trace\": \"\"}}, \"*\")"
      ],
      "text/plain": [
       "<IPython.core.display.Javascript object>"
      ]
     },
     "metadata": {},
     "output_type": "display_data"
    },
    {
     "data": {
      "text/markdown": [
       "<span style=\"color:#33cc33\">Correct</span>"
      ],
      "text/plain": [
       "Correct"
      ]
     },
     "metadata": {},
     "output_type": "display_data"
    }
   ],
   "source": [
    "model.compile(\n",
    "    optimizer=tf.keras.optimizers.Adam(epsilon=0.01),\n",
    "    loss='binary_crossentropy',\n",
    "    metrics=['binary_accuracy']\n",
    ")\n",
    "\n",
    "# Check your answer\n",
    "q_2.check()"
   ]
  },
  {
   "cell_type": "code",
   "execution_count": 5,
   "id": "f028fa46",
   "metadata": {
    "execution": {
     "iopub.execute_input": "2024-01-04T12:51:47.821201Z",
     "iopub.status.busy": "2024-01-04T12:51:47.820936Z",
     "iopub.status.idle": "2024-01-04T12:51:47.836586Z",
     "shell.execute_reply": "2024-01-04T12:51:47.835664Z"
    },
    "lines_to_next_cell": 0,
    "papermill": {
     "duration": 0.025505,
     "end_time": "2024-01-04T12:51:47.838579",
     "exception": false,
     "start_time": "2024-01-04T12:51:47.813074",
     "status": "completed"
    },
    "tags": []
   },
   "outputs": [
    {
     "data": {
      "application/javascript": [
       "parent.postMessage({\"jupyterEvent\": \"custom.exercise_interaction\", \"data\": {\"outcomeType\": 1, \"valueTowardsCompletion\": 0.3333333333333333, \"interactionType\": 1, \"questionType\": 2, \"questionId\": \"2_Q2\", \"learnToolsVersion\": \"0.3.4\", \"failureMessage\": \"\", \"exceptionClass\": \"\", \"trace\": \"\"}}, \"*\")"
      ],
      "text/plain": [
       "<IPython.core.display.Javascript object>"
      ]
     },
     "metadata": {},
     "output_type": "display_data"
    },
    {
     "data": {
      "text/markdown": [
       "<span style=\"color:#33cc33\">Correct</span>"
      ],
      "text/plain": [
       "Correct"
      ]
     },
     "metadata": {},
     "output_type": "display_data"
    }
   ],
   "source": [
    "model.compile(\n",
    "    optimizer=tf.keras.optimizers.Adam(epsilon=0.01),\n",
    "    loss='binary_crossentropy',\n",
    "    metrics=['binary_accuracy'],\n",
    ")\n",
    "q_2.assert_check_passed()"
   ]
  },
  {
   "cell_type": "code",
   "execution_count": 6,
   "id": "59733213",
   "metadata": {
    "execution": {
     "iopub.execute_input": "2024-01-04T12:51:47.853861Z",
     "iopub.status.busy": "2024-01-04T12:51:47.853588Z",
     "iopub.status.idle": "2024-01-04T12:51:47.857486Z",
     "shell.execute_reply": "2024-01-04T12:51:47.856546Z"
    },
    "lines_to_next_cell": 0,
    "papermill": {
     "duration": 0.013868,
     "end_time": "2024-01-04T12:51:47.859402",
     "exception": false,
     "start_time": "2024-01-04T12:51:47.845534",
     "status": "completed"
    },
    "tags": []
   },
   "outputs": [],
   "source": [
    "# Lines below will give you a hint or solution code\n",
    "#q_2.hint()\n",
    "#q_2.solution()"
   ]
  },
  {
   "cell_type": "markdown",
   "id": "f2968ecf",
   "metadata": {
    "papermill": {
     "duration": 0.00635,
     "end_time": "2024-01-04T12:51:47.872754",
     "exception": false,
     "start_time": "2024-01-04T12:51:47.866404",
     "status": "completed"
    },
    "tags": []
   },
   "source": [
    "Finally, let's test the performance of this new model. First run this cell to fit the model to the training set."
   ]
  },
  {
   "cell_type": "code",
   "execution_count": 7,
   "id": "82e0e042",
   "metadata": {
    "execution": {
     "iopub.execute_input": "2024-01-04T12:51:47.888262Z",
     "iopub.status.busy": "2024-01-04T12:51:47.887693Z",
     "iopub.status.idle": "2024-01-04T12:54:48.144398Z",
     "shell.execute_reply": "2024-01-04T12:54:48.143361Z"
    },
    "papermill": {
     "duration": 180.267228,
     "end_time": "2024-01-04T12:54:48.146743",
     "exception": false,
     "start_time": "2024-01-04T12:51:47.879515",
     "status": "completed"
    },
    "tags": []
   },
   "outputs": [
    {
     "name": "stdout",
     "output_type": "stream",
     "text": [
      "Epoch 1/50\n",
      "80/80 [==============================] - 24s 170ms/step - loss: 0.6751 - binary_accuracy: 0.5757 - val_loss: 0.6606 - val_binary_accuracy: 0.5785\n",
      "Epoch 2/50\n",
      "80/80 [==============================] - 3s 40ms/step - loss: 0.6615 - binary_accuracy: 0.5787 - val_loss: 0.6541 - val_binary_accuracy: 0.5785\n",
      "Epoch 3/50\n",
      "80/80 [==============================] - 3s 40ms/step - loss: 0.6557 - binary_accuracy: 0.6074 - val_loss: 0.6466 - val_binary_accuracy: 0.5842\n",
      "Epoch 4/50\n",
      "80/80 [==============================] - 3s 40ms/step - loss: 0.6457 - binary_accuracy: 0.6250 - val_loss: 0.6486 - val_binary_accuracy: 0.5920\n",
      "Epoch 5/50\n",
      "80/80 [==============================] - 3s 40ms/step - loss: 0.6382 - binary_accuracy: 0.6359 - val_loss: 0.6316 - val_binary_accuracy: 0.6282\n",
      "Epoch 6/50\n",
      "80/80 [==============================] - 3s 40ms/step - loss: 0.6246 - binary_accuracy: 0.6586 - val_loss: 0.6188 - val_binary_accuracy: 0.6541\n",
      "Epoch 7/50\n",
      "80/80 [==============================] - 3s 40ms/step - loss: 0.6202 - binary_accuracy: 0.6662 - val_loss: 0.6173 - val_binary_accuracy: 0.6391\n",
      "Epoch 8/50\n",
      "80/80 [==============================] - 3s 40ms/step - loss: 0.6113 - binary_accuracy: 0.6815 - val_loss: 0.6073 - val_binary_accuracy: 0.6797\n",
      "Epoch 9/50\n",
      "80/80 [==============================] - 3s 40ms/step - loss: 0.5995 - binary_accuracy: 0.6883 - val_loss: 0.5926 - val_binary_accuracy: 0.6783\n",
      "Epoch 10/50\n",
      "80/80 [==============================] - 3s 40ms/step - loss: 0.5755 - binary_accuracy: 0.7041 - val_loss: 0.5854 - val_binary_accuracy: 0.6807\n",
      "Epoch 11/50\n",
      "80/80 [==============================] - 3s 40ms/step - loss: 0.5598 - binary_accuracy: 0.7188 - val_loss: 0.5492 - val_binary_accuracy: 0.7222\n",
      "Epoch 12/50\n",
      "80/80 [==============================] - 3s 40ms/step - loss: 0.5288 - binary_accuracy: 0.7442 - val_loss: 0.5226 - val_binary_accuracy: 0.7446\n",
      "Epoch 13/50\n",
      "80/80 [==============================] - 3s 40ms/step - loss: 0.4988 - binary_accuracy: 0.7663 - val_loss: 0.5161 - val_binary_accuracy: 0.7511\n",
      "Epoch 14/50\n",
      "80/80 [==============================] - 3s 40ms/step - loss: 0.4728 - binary_accuracy: 0.7829 - val_loss: 0.4992 - val_binary_accuracy: 0.7608\n",
      "Epoch 15/50\n",
      "80/80 [==============================] - 3s 40ms/step - loss: 0.4455 - binary_accuracy: 0.7928 - val_loss: 0.4620 - val_binary_accuracy: 0.7844\n",
      "Epoch 16/50\n",
      "80/80 [==============================] - 3s 40ms/step - loss: 0.4213 - binary_accuracy: 0.8085 - val_loss: 0.5106 - val_binary_accuracy: 0.7432\n",
      "Epoch 17/50\n",
      "80/80 [==============================] - 3s 40ms/step - loss: 0.3959 - binary_accuracy: 0.8204 - val_loss: 0.4413 - val_binary_accuracy: 0.7909\n",
      "Epoch 18/50\n",
      "80/80 [==============================] - 3s 40ms/step - loss: 0.3536 - binary_accuracy: 0.8513 - val_loss: 0.4535 - val_binary_accuracy: 0.7796\n",
      "Epoch 19/50\n",
      "80/80 [==============================] - 3s 40ms/step - loss: 0.3363 - binary_accuracy: 0.8595 - val_loss: 0.5213 - val_binary_accuracy: 0.7305\n",
      "Epoch 20/50\n",
      "80/80 [==============================] - 3s 40ms/step - loss: 0.3178 - binary_accuracy: 0.8640 - val_loss: 0.5027 - val_binary_accuracy: 0.7448\n",
      "Epoch 21/50\n",
      "80/80 [==============================] - 3s 40ms/step - loss: 0.2842 - binary_accuracy: 0.8818 - val_loss: 0.5098 - val_binary_accuracy: 0.7521\n",
      "Epoch 22/50\n",
      "80/80 [==============================] - 3s 40ms/step - loss: 0.2657 - binary_accuracy: 0.8870 - val_loss: 0.4084 - val_binary_accuracy: 0.8200\n",
      "Epoch 23/50\n",
      "80/80 [==============================] - 3s 40ms/step - loss: 0.2260 - binary_accuracy: 0.9080 - val_loss: 0.4323 - val_binary_accuracy: 0.8266\n",
      "Epoch 24/50\n",
      "80/80 [==============================] - 3s 40ms/step - loss: 0.2048 - binary_accuracy: 0.9218 - val_loss: 0.4640 - val_binary_accuracy: 0.8212\n",
      "Epoch 25/50\n",
      "80/80 [==============================] - 3s 40ms/step - loss: 0.2021 - binary_accuracy: 0.9228 - val_loss: 0.4222 - val_binary_accuracy: 0.8222\n",
      "Epoch 26/50\n",
      "80/80 [==============================] - 3s 40ms/step - loss: 0.2112 - binary_accuracy: 0.9150 - val_loss: 0.4273 - val_binary_accuracy: 0.8293\n",
      "Epoch 27/50\n",
      "80/80 [==============================] - 3s 40ms/step - loss: 0.2130 - binary_accuracy: 0.9162 - val_loss: 0.4741 - val_binary_accuracy: 0.8272\n",
      "Epoch 28/50\n",
      "80/80 [==============================] - 3s 40ms/step - loss: 0.1847 - binary_accuracy: 0.9267 - val_loss: 0.5089 - val_binary_accuracy: 0.8337\n",
      "Epoch 29/50\n",
      "80/80 [==============================] - 3s 40ms/step - loss: 0.1458 - binary_accuracy: 0.9480 - val_loss: 0.5443 - val_binary_accuracy: 0.8260\n",
      "Epoch 30/50\n",
      "80/80 [==============================] - 3s 40ms/step - loss: 0.1382 - binary_accuracy: 0.9517 - val_loss: 0.5719 - val_binary_accuracy: 0.8224\n",
      "Epoch 31/50\n",
      "80/80 [==============================] - 3s 40ms/step - loss: 0.1323 - binary_accuracy: 0.9560 - val_loss: 0.7735 - val_binary_accuracy: 0.7913\n",
      "Epoch 32/50\n",
      "80/80 [==============================] - 3s 40ms/step - loss: 0.1210 - binary_accuracy: 0.9599 - val_loss: 0.6460 - val_binary_accuracy: 0.8258\n",
      "Epoch 33/50\n",
      "80/80 [==============================] - 3s 40ms/step - loss: 0.1188 - binary_accuracy: 0.9617 - val_loss: 0.6044 - val_binary_accuracy: 0.8289\n",
      "Epoch 34/50\n",
      "80/80 [==============================] - 3s 40ms/step - loss: 0.1170 - binary_accuracy: 0.9613 - val_loss: 0.6040 - val_binary_accuracy: 0.8236\n",
      "Epoch 35/50\n",
      "80/80 [==============================] - 3s 40ms/step - loss: 0.0955 - binary_accuracy: 0.9758 - val_loss: 0.5575 - val_binary_accuracy: 0.8400\n",
      "Epoch 36/50\n",
      "80/80 [==============================] - 3s 40ms/step - loss: 0.0919 - binary_accuracy: 0.9730 - val_loss: 0.5173 - val_binary_accuracy: 0.8466\n",
      "Epoch 37/50\n",
      "80/80 [==============================] - 3s 40ms/step - loss: 0.0870 - binary_accuracy: 0.9750 - val_loss: 0.5651 - val_binary_accuracy: 0.8481\n",
      "Epoch 38/50\n",
      "80/80 [==============================] - 3s 41ms/step - loss: 0.0775 - binary_accuracy: 0.9824 - val_loss: 0.5498 - val_binary_accuracy: 0.8478\n",
      "Epoch 39/50\n",
      "80/80 [==============================] - 3s 40ms/step - loss: 0.0762 - binary_accuracy: 0.9834 - val_loss: 0.5305 - val_binary_accuracy: 0.8313\n",
      "Epoch 40/50\n",
      "80/80 [==============================] - 3s 40ms/step - loss: 0.0798 - binary_accuracy: 0.9814 - val_loss: 0.5562 - val_binary_accuracy: 0.8329\n",
      "Epoch 41/50\n",
      "80/80 [==============================] - 3s 40ms/step - loss: 0.0754 - binary_accuracy: 0.9816 - val_loss: 0.5839 - val_binary_accuracy: 0.8103\n",
      "Epoch 42/50\n",
      "80/80 [==============================] - 3s 40ms/step - loss: 0.0721 - binary_accuracy: 0.9828 - val_loss: 0.6495 - val_binary_accuracy: 0.8016\n",
      "Epoch 43/50\n",
      "80/80 [==============================] - 3s 40ms/step - loss: 0.0712 - binary_accuracy: 0.9832 - val_loss: 0.5900 - val_binary_accuracy: 0.8359\n",
      "Epoch 44/50\n",
      "80/80 [==============================] - 3s 41ms/step - loss: 0.0681 - binary_accuracy: 0.9824 - val_loss: 0.6416 - val_binary_accuracy: 0.8480\n",
      "Epoch 45/50\n",
      "80/80 [==============================] - 3s 40ms/step - loss: 0.0507 - binary_accuracy: 0.9910 - val_loss: 0.6892 - val_binary_accuracy: 0.8507\n",
      "Epoch 46/50\n",
      "80/80 [==============================] - 3s 40ms/step - loss: 0.0411 - binary_accuracy: 0.9937 - val_loss: 0.7267 - val_binary_accuracy: 0.8511\n",
      "Epoch 47/50\n",
      "80/80 [==============================] - 3s 41ms/step - loss: 0.0441 - binary_accuracy: 0.9926 - val_loss: 0.8263 - val_binary_accuracy: 0.8497\n",
      "Epoch 48/50\n",
      "80/80 [==============================] - 3s 41ms/step - loss: 0.0415 - binary_accuracy: 0.9939 - val_loss: 0.7448 - val_binary_accuracy: 0.8460\n",
      "Epoch 49/50\n",
      "80/80 [==============================] - 3s 40ms/step - loss: 0.0433 - binary_accuracy: 0.9934 - val_loss: 0.7378 - val_binary_accuracy: 0.8513\n",
      "Epoch 50/50\n",
      "80/80 [==============================] - 3s 41ms/step - loss: 0.0419 - binary_accuracy: 0.9937 - val_loss: 0.9065 - val_binary_accuracy: 0.8420\n"
     ]
    }
   ],
   "source": [
    "history = model.fit(\n",
    "    ds_train,\n",
    "    validation_data=ds_valid,\n",
    "    epochs=50,\n",
    ")"
   ]
  },
  {
   "cell_type": "markdown",
   "id": "f48825cf",
   "metadata": {
    "papermill": {
     "duration": 0.186254,
     "end_time": "2024-01-04T12:54:48.519968",
     "exception": false,
     "start_time": "2024-01-04T12:54:48.333714",
     "status": "completed"
    },
    "tags": []
   },
   "source": [
    "And now run the cell below to plot the loss and metric curves for this training run."
   ]
  },
  {
   "cell_type": "code",
   "execution_count": 8,
   "id": "6543a14a",
   "metadata": {
    "execution": {
     "iopub.execute_input": "2024-01-04T12:54:48.917140Z",
     "iopub.status.busy": "2024-01-04T12:54:48.916773Z",
     "iopub.status.idle": "2024-01-04T12:54:49.878702Z",
     "shell.execute_reply": "2024-01-04T12:54:49.877763Z"
    },
    "papermill": {
     "duration": 1.161344,
     "end_time": "2024-01-04T12:54:49.881595",
     "exception": false,
     "start_time": "2024-01-04T12:54:48.720251",
     "status": "completed"
    },
    "tags": []
   },
   "outputs": [
    {
     "data": {
      "image/png": "[encoded data removed]",
      "text/plain": [
       "<Figure size 640x480 with 1 Axes>"
      ]
     },
     "metadata": {},
     "output_type": "display_data"
    },
    {
     "data": {
      "image/png": "[encoded data removed]",
      "text/plain": [
       "<Figure size 640x480 with 1 Axes>"
      ]
     },
     "metadata": {},
     "output_type": "display_data"
    }
   ],
   "source": [
    "import pandas as pd\n",
    "history_frame = pd.DataFrame(history.history)\n",
    "history_frame.loc[:, ['loss', 'val_loss']].plot()\n",
    "history_frame.loc[:, ['binary_accuracy', 'val_binary_accuracy']].plot();"
   ]
  },
  {
   "cell_type": "markdown",
   "id": "5587bca8",
   "metadata": {
    "papermill": {
     "duration": 0.186387,
     "end_time": "2024-01-04T12:54:50.263192",
     "exception": false,
     "start_time": "2024-01-04T12:54:50.076805",
     "status": "completed"
    },
    "tags": []
   },
   "source": [
    "# 3) Train the Model #\n",
    "\n",
    "How would you interpret these training curves? Did this model improve upon the model from the tutorial?"
   ]
  },
  {
   "cell_type": "code",
   "execution_count": 9,
   "id": "0acb8ce0",
   "metadata": {
    "execution": {
     "iopub.execute_input": "2024-01-04T12:54:50.635163Z",
     "iopub.status.busy": "2024-01-04T12:54:50.634336Z",
     "iopub.status.idle": "2024-01-04T12:54:50.642668Z",
     "shell.execute_reply": "2024-01-04T12:54:50.641692Z"
    },
    "lines_to_next_cell": 0,
    "papermill": {
     "duration": 0.194308,
     "end_time": "2024-01-04T12:54:50.644767",
     "exception": false,
     "start_time": "2024-01-04T12:54:50.450459",
     "status": "completed"
    },
    "tags": []
   },
   "outputs": [
    {
     "data": {
      "application/javascript": [
       "parent.postMessage({\"jupyterEvent\": \"custom.exercise_interaction\", \"data\": {\"outcomeType\": 1, \"valueTowardsCompletion\": 0.3333333333333333, \"interactionType\": 1, \"questionType\": 4, \"questionId\": \"3_Q3\", \"learnToolsVersion\": \"0.3.4\", \"failureMessage\": \"\", \"exceptionClass\": \"\", \"trace\": \"\"}}, \"*\")"
      ],
      "text/plain": [
       "<IPython.core.display.Javascript object>"
      ]
     },
     "metadata": {},
     "output_type": "display_data"
    },
    {
     "data": {
      "text/markdown": [
       "<span style=\"color:#33cc33\">Correct:</span> \n",
       "\n",
       "\n",
       "The learning curves for the model from the tutorial diverged fairly rapidly. This would indicate that it was prone to overfitting and in need of some regularization. The additional layer in our new model would make it even more prone to overfitting. However, adding some regularization with the `Dropout` layer helped prevent this. These changes improved the validation accuracy of the model by several points.\n"
      ],
      "text/plain": [
       "Correct: \n",
       "\n",
       "\n",
       "The learning curves for the model from the tutorial diverged fairly rapidly. This would indicate that it was prone to overfitting and in need of some regularization. The additional layer in our new model would make it even more prone to overfitting. However, adding some regularization with the `Dropout` layer helped prevent this. These changes improved the validation accuracy of the model by several points."
      ]
     },
     "metadata": {},
     "output_type": "display_data"
    }
   ],
   "source": [
    "# View the solution (Run this code cell to receive credit!)\n",
    "q_3.check()"
   ]
  },
  {
   "cell_type": "code",
   "execution_count": 10,
   "id": "133d4457",
   "metadata": {
    "execution": {
     "iopub.execute_input": "2024-01-04T12:54:51.021058Z",
     "iopub.status.busy": "2024-01-04T12:54:51.020691Z",
     "iopub.status.idle": "2024-01-04T12:54:51.027196Z",
     "shell.execute_reply": "2024-01-04T12:54:51.026212Z"
    },
    "papermill": {
     "duration": 0.19515,
     "end_time": "2024-01-04T12:54:51.029254",
     "exception": false,
     "start_time": "2024-01-04T12:54:50.834104",
     "status": "completed"
    },
    "tags": []
   },
   "outputs": [
    {
     "data": {
      "text/plain": [
       "<_PrefetchDataset element_spec=(TensorSpec(shape=(None, 128, 128, 3), dtype=tf.float32, name=None), TensorSpec(shape=(None, 1), dtype=tf.float32, name=None))>"
      ]
     },
     "execution_count": 10,
     "metadata": {},
     "output_type": "execute_result"
    }
   ],
   "source": [
    "ds_train"
   ]
  },
  {
   "cell_type": "code",
   "execution_count": 11,
   "id": "b6f1fb21",
   "metadata": {
    "execution": {
     "iopub.execute_input": "2024-01-04T12:54:51.397768Z",
     "iopub.status.busy": "2024-01-04T12:54:51.397356Z",
     "iopub.status.idle": "2024-01-04T12:56:03.453928Z",
     "shell.execute_reply": "2024-01-04T12:56:03.452801Z"
    },
    "papermill": {
     "duration": 72.246775,
     "end_time": "2024-01-04T12:56:03.456324",
     "exception": false,
     "start_time": "2024-01-04T12:54:51.209549",
     "status": "completed"
    },
    "tags": []
   },
   "outputs": [
    {
     "name": "stdout",
     "output_type": "stream",
     "text": [
      "Found 5117 files belonging to 2 classes.\n",
      "Epoch 1/50\n",
      "80/80 [==============================] - 7s 49ms/step - loss: 0.6566 - binary_accuracy: 0.6211 - val_loss: 0.6840 - val_binary_accuracy: 0.6215 - lr: 0.0010\n",
      "Epoch 2/50\n",
      "80/80 [==============================] - 4s 47ms/step - loss: 0.5806 - binary_accuracy: 0.6944 - val_loss: 0.6740 - val_binary_accuracy: 0.7109 - lr: 9.0000e-04\n",
      "Epoch 3/50\n",
      "80/80 [==============================] - 4s 47ms/step - loss: 0.5011 - binary_accuracy: 0.7628 - val_loss: 0.6558 - val_binary_accuracy: 0.6844 - lr: 8.1000e-04\n",
      "Epoch 4/50\n",
      "80/80 [==============================] - 4s 46ms/step - loss: 0.4142 - binary_accuracy: 0.8206 - val_loss: 0.6178 - val_binary_accuracy: 0.7058 - lr: 7.2900e-04\n",
      "Epoch 5/50\n",
      "80/80 [==============================] - 4s 46ms/step - loss: 0.3211 - binary_accuracy: 0.8669 - val_loss: 0.6104 - val_binary_accuracy: 0.6379 - lr: 6.5610e-04\n",
      "Epoch 6/50\n",
      "80/80 [==============================] - 4s 46ms/step - loss: 0.2357 - binary_accuracy: 0.9138 - val_loss: 0.5436 - val_binary_accuracy: 0.7086 - lr: 5.9049e-04\n",
      "Epoch 7/50\n",
      "80/80 [==============================] - 4s 46ms/step - loss: 0.1786 - binary_accuracy: 0.9355 - val_loss: 0.4187 - val_binary_accuracy: 0.8115 - lr: 5.3144e-04\n",
      "Epoch 8/50\n",
      "80/80 [==============================] - 4s 46ms/step - loss: 0.1368 - binary_accuracy: 0.9547 - val_loss: 0.8805 - val_binary_accuracy: 0.6583 - lr: 4.7830e-04\n",
      "Epoch 9/50\n",
      "80/80 [==============================] - 4s 45ms/step - loss: 0.1061 - binary_accuracy: 0.9644 - val_loss: 0.6317 - val_binary_accuracy: 0.7395 - lr: 4.3047e-04\n",
      "Epoch 10/50\n",
      "80/80 [==============================] - 4s 46ms/step - loss: 0.0782 - binary_accuracy: 0.9777 - val_loss: 0.4851 - val_binary_accuracy: 0.8137 - lr: 3.8742e-04\n",
      "Epoch 11/50\n",
      "80/80 [==============================] - 4s 46ms/step - loss: 0.0458 - binary_accuracy: 0.9900 - val_loss: 0.5096 - val_binary_accuracy: 0.8236 - lr: 3.4868e-04\n",
      "Epoch 12/50\n",
      "80/80 [==============================] - 4s 47ms/step - loss: 0.0311 - binary_accuracy: 0.9959 - val_loss: 0.4765 - val_binary_accuracy: 0.8373 - lr: 3.1381e-04\n",
      "Epoch 13/50\n",
      "80/80 [==============================] - 4s 46ms/step - loss: 0.0243 - binary_accuracy: 0.9957 - val_loss: 0.5931 - val_binary_accuracy: 0.8139 - lr: 2.8243e-04\n",
      "Epoch 14/50\n",
      "80/80 [==============================] - 4s 46ms/step - loss: 0.0162 - binary_accuracy: 0.9973 - val_loss: 0.7417 - val_binary_accuracy: 0.7911 - lr: 2.5419e-04\n",
      "Epoch 15/50\n",
      "80/80 [==============================] - 4s 46ms/step - loss: 0.0138 - binary_accuracy: 0.9986 - val_loss: 0.5738 - val_binary_accuracy: 0.8252 - lr: 2.2877e-04\n",
      "Epoch 16/50\n",
      "80/80 [==============================] - 4s 46ms/step - loss: 0.0116 - binary_accuracy: 0.9982 - val_loss: 0.5658 - val_binary_accuracy: 0.8287 - lr: 2.0589e-04\n",
      "Epoch 17/50\n",
      "80/80 [==============================] - 4s 46ms/step - loss: 0.0092 - binary_accuracy: 0.9994 - val_loss: 0.5272 - val_binary_accuracy: 0.8337 - lr: 1.8530e-04\n"
     ]
    }
   ],
   "source": [
    "from tensorflow import keras\n",
    "from tensorflow.keras import layers\n",
    "from tensorflow.keras.preprocessing.image import ImageDataGenerator\n",
    "from tensorflow.keras.callbacks import LearningRateScheduler, EarlyStopping\n",
    "\n",
    "# Define a learning rate schedule\n",
    "def lr_schedule(epoch):\n",
    "    initial_learning_rate = 0.001\n",
    "    decay = 0.9\n",
    "    lr = initial_learning_rate * decay ** epoch\n",
    "    return lr\n",
    "\n",
    "# Load training and validation sets\n",
    "ds_train_ = image_dataset_from_directory(\n",
    "    '../input/car-or-truck/train',\n",
    "    labels='inferred',\n",
    "    label_mode='binary',\n",
    "    image_size=[128, 128],\n",
    "    interpolation='nearest',\n",
    "    batch_size=64,\n",
    "    shuffle=True,\n",
    ")\n",
    "# Create an instance of ImageDataGenerator with desired augmentation parameters\n",
    "datagen = ImageDataGenerator(\n",
    "    rotation_range=20,  # Rotate images by up to 20 degrees\n",
    "    width_shift_range=0.2,  # Shift images horizontally by up to 20% of the width\n",
    "    height_shift_range=0.2,  # Shift images vertically by up to 20% of the height\n",
    "    shear_range=0.2,  # Apply shear transformation\n",
    "    zoom_range=0.2,  # Zoom in by up to 20%\n",
    "    horizontal_flip=True,  # Flip images horizontally\n",
    "    fill_mode='nearest'  # Fill in missing pixels with the nearest available pixel\n",
    ")\n",
    "\n",
    "# Function to apply data augmentation to an image\n",
    "def augment_image(image, label):\n",
    "    if image.shape[0] is None or image.shape[1] is None:\n",
    "        # Skip augmentation if the image shape is not fully defined\n",
    "        return image, label\n",
    "    \n",
    "    image = datagen.random_transform(image)\n",
    "    return image, label\n",
    "\n",
    "# Apply data augmentation to ds_train\n",
    "ds_train_augmented = (\n",
    "    ds_train\n",
    "    .map(augment_image, num_parallel_calls=AUTOTUNE)\n",
    "    .cache()\n",
    "    .prefetch(buffer_size=AUTOTUNE)\n",
    ")\n",
    "\n",
    "# Model definition with suggested changes\n",
    "model = keras.Sequential([\n",
    "    layers.Conv2D(filters=32, kernel_size=3, activation='relu', padding='same',\n",
    "                  input_shape=[128, 128, 3]),\n",
    "    layers.MaxPool2D(),\n",
    "    layers.Conv2D(filters=64, kernel_size=3, activation='relu', padding='same'),\n",
    "    layers.MaxPool2D(),\n",
    "    layers.Conv2D(filters=128, kernel_size=3, activation='relu', padding='same'),\n",
    "    layers.Conv2D(filters=256, kernel_size=3, activation='relu', padding='same'),\n",
    "    layers.MaxPool2D(),\n",
    "    layers.BatchNormalization(),\n",
    "    layers.Flatten(),\n",
    "    layers.Dense(64, activation='relu'),\n",
    "    layers.Dropout(0.2),\n",
    "    layers.Dense(1, activation='sigmoid'),\n",
    "])\n",
    "\n",
    "# Compile the model\n",
    "model.compile(\n",
    "    optimizer=tf.keras.optimizers.Adam(epsilon=0.01),\n",
    "    loss='binary_crossentropy',\n",
    "    metrics=['binary_accuracy']\n",
    ")\n",
    "\n",
    "# Add learning rate scheduler and early stopping\n",
    "lr_scheduler = LearningRateScheduler(lr_schedule)\n",
    "early_stopping = EarlyStopping(monitor='val_binary_accuracy', patience=5, restore_best_weights=True)\n",
    "\n",
    "# Train the model\n",
    "history = model.fit(\n",
    "    ds_train_augmented,\n",
    "    validation_data=ds_valid,\n",
    "    epochs=50,\n",
    "    callbacks=[lr_scheduler, early_stopping]\n",
    ")\n"
   ]
  },
  {
   "cell_type": "code",
   "execution_count": 12,
   "id": "e203e835",
   "metadata": {
    "execution": {
     "iopub.execute_input": "2024-01-04T12:56:03.970094Z",
     "iopub.status.busy": "2024-01-04T12:56:03.969693Z",
     "iopub.status.idle": "2024-01-04T12:56:04.941991Z",
     "shell.execute_reply": "2024-01-04T12:56:04.941004Z"
    },
    "papermill": {
     "duration": 1.225221,
     "end_time": "2024-01-04T12:56:04.944498",
     "exception": false,
     "start_time": "2024-01-04T12:56:03.719277",
     "status": "completed"
    },
    "tags": []
   },
   "outputs": [
    {
     "data": {
      "image/png": "[encoded data removed]",
      "text/plain": [
       "<Figure size 640x480 with 1 Axes>"
      ]
     },
     "metadata": {},
     "output_type": "display_data"
    },
    {
     "data": {
      "image/png": "[encoded data removed]",
      "text/plain": [
       "<Figure size 640x480 with 1 Axes>"
      ]
     },
     "metadata": {},
     "output_type": "display_data"
    }
   ],
   "source": [
    "import pandas as pd\n",
    "history_frame = pd.DataFrame(history.history)\n",
    "history_frame.loc[:, ['loss', 'val_loss']].plot()\n",
    "history_frame.loc[:, ['binary_accuracy', 'val_binary_accuracy']].plot();"
   ]
  },
  {
   "cell_type": "markdown",
   "id": "273659b8",
   "metadata": {
    "papermill": {
     "duration": 0.248362,
     "end_time": "2024-01-04T12:56:05.438832",
     "exception": false,
     "start_time": "2024-01-04T12:56:05.190470",
     "status": "completed"
    },
    "tags": []
   },
   "source": [
    "# Conclusion #\n",
    "\n",
    "These exercises showed you how to design a custom convolutional network to solve a specific classification problem. Though most models these days will be built on top of a pretrained base, it certain circumstances a smaller custom convnet might still be preferable -- such as with a smaller or unusual dataset or when computing resources are very limited. As you saw here, for certain problems they can perform just as well as a pretrained model.\n",
    "\n",
    "# Keep Going #\n",
    "\n",
    "Continue on to [**Lesson 6**](https://www.kaggle.com/ryanholbrook/data-augmentation), where you'll learn a widely-used technique that can give a boost to your training data: **data augmentation**."
   ]
  },
  {
   "cell_type": "markdown",
   "id": "9dbc44b7",
   "metadata": {
    "papermill": {
     "duration": 0.24952,
     "end_time": "2024-01-04T12:56:05.937859",
     "exception": false,
     "start_time": "2024-01-04T12:56:05.688339",
     "status": "completed"
    },
    "tags": []
   },
   "source": [
    "---\n",
    "\n",
    "\n",
    "\n",
    "\n",
    "*Have questions or comments? Visit the [course discussion forum](https://www.kaggle.com/learn/computer-vision/discussion) to chat with other learners.*"
   ]
  }
 ],
 "metadata": {
  "jupytext": {
   "formats": "md,ipynb"
  },
  "kaggle": {
   "accelerator": "gpu",
   "dataSources": [
    {
     "datasetId": 708136,
     "sourceId": 1338830,
     "sourceType": "datasetVersion"
    },
    {
     "datasetId": 701538,
     "sourceId": 1363948,
     "sourceType": "datasetVersion"
    },
    {
     "datasetId": 878523,
     "sourceId": 1495782,
     "sourceType": "datasetVersion"
    }
   ],
   "isGpuEnabled": true,
   "isInternetEnabled": false,
   "language": "python",
   "sourceType": "notebook"
  },
  "kernelspec": {
   "display_name": "Python 3",
   "language": "python",
   "name": "python3"
  },
  "language_info": {
   "codemirror_mode": {
    "name": "ipython",
    "version": 3
   },
   "file_extension": ".py",
   "mimetype": "text/x-python",
   "name": "python",
   "nbconvert_exporter": "python",
   "pygments_lexer": "ipython3",
   "version": "3.10.12"
  },
  "papermill": {
   "default_parameters": {},
   "duration": 287.730243,
   "end_time": "2024-01-04T12:56:09.004614",
   "environment_variables": {},
   "exception": null,
   "input_path": "__notebook__.ipynb",
   "output_path": "__notebook__.ipynb",
   "parameters": {},
   "start_time": "2024-01-04T12:51:21.274371",
   "version": "2.4.0"
  }
 },
 "nbformat": 4,
 "nbformat_minor": 5
}
